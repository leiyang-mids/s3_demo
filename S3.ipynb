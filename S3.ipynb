{
 "cells": [
  {
   "cell_type": "markdown",
   "metadata": {},
   "source": [
    "# AWS S3 SDK Examples\n",
    "- boto3 is the python AWS package\n",
    "- **resource** provides high-level object-oriented interface service calls\n",
    "- **client** provides low-level interface with 1:1 correspondance with APIs"
   ]
  },
  {
   "cell_type": "code",
   "execution_count": 4,
   "metadata": {
    "collapsed": true
   },
   "outputs": [],
   "source": [
    "import boto3, json"
   ]
  },
  {
   "cell_type": "code",
   "execution_count": 9,
   "metadata": {},
   "outputs": [
    {
     "name": "stdout",
     "output_type": "stream",
     "text": [
      "bucket: leiyang.test\n",
      "s3.ObjectSummary(bucket_name='leiyang.test', key='folder-test/')\n",
      "s3.ObjectSummary(bucket_name='leiyang.test', key='folder-test/IEEE_biography_samples.doc')\n",
      "s3.ObjectSummary(bucket_name='leiyang.test', key='w4.pdf')\n",
      "bucket: nikola.test\n",
      "bucket: region.test\n"
     ]
    }
   ],
   "source": [
    "# browse all buckets with s3 resource\n",
    "s3 = boto3.resource('s3')\n",
    "for b in s3.buckets.all():\n",
    "    print('bucket: %s' %b.name)\n",
    "    for k in b.objects.all():\n",
    "        print(k)"
   ]
  },
  {
   "cell_type": "code",
   "execution_count": 13,
   "metadata": {},
   "outputs": [
    {
     "data": {
      "text/plain": [
       "{'Buckets': [{'CreationDate': datetime.datetime(2017, 7, 26, 19, 22, 40, tzinfo=tzutc()),\n",
       "   'Name': 'leiyang.test'},\n",
       "  {'CreationDate': datetime.datetime(2017, 9, 1, 21, 53, 16, tzinfo=tzutc()),\n",
       "   'Name': 'nikola.test'},\n",
       "  {'CreationDate': datetime.datetime(2017, 9, 1, 22, 11, 39, tzinfo=tzutc()),\n",
       "   'Name': 'region.test'}],\n",
       " 'Owner': {'DisplayName': 'leiyang',\n",
       "  'ID': 'ab78662b0559711595af8a2213fec4b6b564ee21f63bff1393dd2ce2fa8c7d08'},\n",
       " 'ResponseMetadata': {'HTTPHeaders': {'content-type': 'application/xml',\n",
       "   'date': 'Sat, 02 Sep 2017 05:51:29 GMT',\n",
       "   'server': 'AmazonS3',\n",
       "   'transfer-encoding': 'chunked',\n",
       "   'x-amz-id-2': 'x6gxnYmwiqfNPj1H64L3j60RbZ2C3+aum8iA4aBQtG0+/nfzGKX+7ExbHTDEo6IVejJ+jYN4J2c=',\n",
       "   'x-amz-request-id': '70FDD80746F79EDE'},\n",
       "  'HTTPStatusCode': 200,\n",
       "  'HostId': 'x6gxnYmwiqfNPj1H64L3j60RbZ2C3+aum8iA4aBQtG0+/nfzGKX+7ExbHTDEo6IVejJ+jYN4J2c=',\n",
       "  'RequestId': '70FDD80746F79EDE',\n",
       "  'RetryAttempts': 0}}"
      ]
     },
     "execution_count": 13,
     "metadata": {},
     "output_type": "execute_result"
    }
   ],
   "source": [
    "# similarly with s3 client\n",
    "clt = boto3.client('s3')\n",
    "\n",
    "# get all buckets\n",
    "clt.list_buckets()"
   ]
  },
  {
   "cell_type": "code",
   "execution_count": 12,
   "metadata": {},
   "outputs": [
    {
     "data": {
      "text/plain": [
       "{'Contents': [{'ETag': '\"d41d8cd98f00b204e9800998ecf8427e\"',\n",
       "   'Key': 'folder-test/',\n",
       "   'LastModified': datetime.datetime(2017, 7, 26, 19, 25, 52, tzinfo=tzutc()),\n",
       "   'Owner': {'DisplayName': 'leiyang',\n",
       "    'ID': 'ab78662b0559711595af8a2213fec4b6b564ee21f63bff1393dd2ce2fa8c7d08'},\n",
       "   'Size': 0,\n",
       "   'StorageClass': 'STANDARD'},\n",
       "  {'ETag': '\"b3ffa3bea5d9d5c6d7f1235edd962b88\"',\n",
       "   'Key': 'folder-test/IEEE_biography_samples.doc',\n",
       "   'LastModified': datetime.datetime(2017, 8, 31, 3, 49, 59, tzinfo=tzutc()),\n",
       "   'Owner': {'DisplayName': 'leiyang',\n",
       "    'ID': 'ab78662b0559711595af8a2213fec4b6b564ee21f63bff1393dd2ce2fa8c7d08'},\n",
       "   'Size': 50176,\n",
       "   'StorageClass': 'REDUCED_REDUNDANCY'},\n",
       "  {'ETag': '\"4cbd0d5dbff3bbccdf23886bd0d119fa\"',\n",
       "   'Key': 'w4.pdf',\n",
       "   'LastModified': datetime.datetime(2017, 7, 26, 19, 28, 5, tzinfo=tzutc()),\n",
       "   'Owner': {'DisplayName': 'leiyang',\n",
       "    'ID': 'ab78662b0559711595af8a2213fec4b6b564ee21f63bff1393dd2ce2fa8c7d08'},\n",
       "   'Size': 56187,\n",
       "   'StorageClass': 'STANDARD'}],\n",
       " 'EncodingType': 'url',\n",
       " 'IsTruncated': False,\n",
       " 'Marker': '',\n",
       " 'MaxKeys': 1000,\n",
       " 'Name': 'leiyang.test',\n",
       " 'Prefix': '',\n",
       " 'ResponseMetadata': {'HTTPHeaders': {'content-type': 'application/xml',\n",
       "   'date': 'Sat, 02 Sep 2017 05:49:57 GMT',\n",
       "   'server': 'AmazonS3',\n",
       "   'transfer-encoding': 'chunked',\n",
       "   'x-amz-bucket-region': 'us-west-1',\n",
       "   'x-amz-id-2': 'M1sb2TcmWeyUF7YSv9sCbQSN/AVmsmmcs/aM+Q5TCzG+NNmRIV4hQ9+QYZ2l0ORv9vsGIKCxJug=',\n",
       "   'x-amz-request-id': '04A698DEF3DD3859'},\n",
       "  'HTTPStatusCode': 200,\n",
       "  'HostId': 'M1sb2TcmWeyUF7YSv9sCbQSN/AVmsmmcs/aM+Q5TCzG+NNmRIV4hQ9+QYZ2l0ORv9vsGIKCxJug=',\n",
       "  'RequestId': '04A698DEF3DD3859',\n",
       "  'RetryAttempts': 1}}"
      ]
     },
     "execution_count": 12,
     "metadata": {},
     "output_type": "execute_result"
    }
   ],
   "source": [
    "# list objects within a bucket\n",
    "clt.list_objects(Bucket='leiyang.test')"
   ]
  },
  {
   "cell_type": "code",
   "execution_count": 14,
   "metadata": {},
   "outputs": [
    {
     "data": {
      "text/plain": [
       "{'ResponseMetadata': {'HTTPHeaders': {'date': 'Sat, 02 Sep 2017 05:54:14 GMT',\n",
       "   'server': 'AmazonS3',\n",
       "   'transfer-encoding': 'chunked',\n",
       "   'x-amz-id-2': '9+O/A2ObGQ39CXbME8hq4RrQV2CPotKgnTw7f3GjgvU1LutvAthcnikWl5Wx6AbGcE9iWwepFos=',\n",
       "   'x-amz-request-id': '315B9C182FDC1405'},\n",
       "  'HTTPStatusCode': 200,\n",
       "  'HostId': '9+O/A2ObGQ39CXbME8hq4RrQV2CPotKgnTw7f3GjgvU1LutvAthcnikWl5Wx6AbGcE9iWwepFos=',\n",
       "  'RequestId': '315B9C182FDC1405',\n",
       "  'RetryAttempts': 1},\n",
       " 'TagSet': [{'Key': 'owner', 'Value': 'yangl'},\n",
       "  {'Key': 'type', 'Value': '.doc'}]}"
      ]
     },
     "execution_count": 14,
     "metadata": {},
     "output_type": "execute_result"
    }
   ],
   "source": [
    "# get object tagging\n",
    "clt.get_object_tagging(Bucket='leiyang.test', Key='folder-test/IEEE_biography_samples.doc') #['TagSet']"
   ]
  },
  {
   "cell_type": "code",
   "execution_count": 20,
   "metadata": {},
   "outputs": [
    {
     "data": {
      "text/plain": [
       "{u'AcceptRanges': 'bytes',\n",
       " u'Body': <botocore.response.StreamingBody at 0x109e43510>,\n",
       " u'ContentLanguage': 'english',\n",
       " u'ContentLength': 50176,\n",
       " u'ContentType': 'application/msword',\n",
       " u'ETag': '\"b3ffa3bea5d9d5c6d7f1235edd962b88\"',\n",
       " u'LastModified': datetime.datetime(2017, 8, 31, 3, 21, 32, tzinfo=tzutc()),\n",
       " u'Metadata': {'loc': 'RNO'},\n",
       " 'ResponseMetadata': {'HTTPHeaders': {'accept-ranges': 'bytes',\n",
       "   'content-language': 'english',\n",
       "   'content-length': '50176',\n",
       "   'content-type': 'application/msword',\n",
       "   'date': 'Thu, 31 Aug 2017 03:21:44 GMT',\n",
       "   'etag': '\"b3ffa3bea5d9d5c6d7f1235edd962b88\"',\n",
       "   'last-modified': 'Thu, 31 Aug 2017 03:21:32 GMT',\n",
       "   'server': 'AmazonS3',\n",
       "   'x-amz-id-2': 'NHMgWJzczndYZ8skJnrhDcznOxzFl9OxV7BP9ciTQ8bd7XHaBcVDItxsrakeJ9pLGYWeOnAfQvk=',\n",
       "   'x-amz-meta-loc': 'RNO',\n",
       "   'x-amz-request-id': 'BD8BF6C9E7523735',\n",
       "   'x-amz-server-side-encryption': 'AES256',\n",
       "   'x-amz-storage-class': 'STANDARD_IA',\n",
       "   'x-amz-tagging-count': '2'},\n",
       "  'HTTPStatusCode': 200,\n",
       "  'HostId': 'NHMgWJzczndYZ8skJnrhDcznOxzFl9OxV7BP9ciTQ8bd7XHaBcVDItxsrakeJ9pLGYWeOnAfQvk=',\n",
       "  'RequestId': 'BD8BF6C9E7523735',\n",
       "  'RetryAttempts': 0},\n",
       " u'ServerSideEncryption': 'AES256',\n",
       " u'StorageClass': 'STANDARD_IA',\n",
       " u'TagCount': 2}"
      ]
     },
     "execution_count": 20,
     "metadata": {},
     "output_type": "execute_result"
    }
   ],
   "source": [
    "# get object metadata\n",
    "clt.get_object(Bucket='leiyang.test', Key='folder-test/IEEE_biography_samples.doc')"
   ]
  },
  {
   "cell_type": "code",
   "execution_count": 21,
   "metadata": {},
   "outputs": [
    {
     "data": {
      "text/plain": [
       "{u'Grants': [{u'Grantee': {u'Type': 'Group',\n",
       "    u'URI': 'http://acs.amazonaws.com/groups/global/AllUsers'},\n",
       "   u'Permission': 'READ'},\n",
       "  {u'Grantee': {u'DisplayName': 'leiyang',\n",
       "    u'ID': 'ab78662b0559711595af8a2213fec4b6b564ee21f63bff1393dd2ce2fa8c7d08',\n",
       "    u'Type': 'CanonicalUser'},\n",
       "   u'Permission': 'FULL_CONTROL'},\n",
       "  {u'Grantee': {u'Type': 'Group',\n",
       "    u'URI': 'http://acs.amazonaws.com/groups/global/AllUsers'},\n",
       "   u'Permission': 'READ_ACP'}],\n",
       " u'Owner': {u'DisplayName': 'leiyang',\n",
       "  u'ID': 'ab78662b0559711595af8a2213fec4b6b564ee21f63bff1393dd2ce2fa8c7d08'},\n",
       " 'ResponseMetadata': {'HTTPHeaders': {'content-type': 'application/xml',\n",
       "   'date': 'Thu, 31 Aug 2017 03:23:41 GMT',\n",
       "   'server': 'AmazonS3',\n",
       "   'transfer-encoding': 'chunked',\n",
       "   'x-amz-id-2': '+hG9XqSgYNA8Q0OZUIGYJ3bvd0M0AcuRpVyQ/jDuGlfir2TLCeK7VcIwQ4ZbKPRWcNpYOaMLkTo=',\n",
       "   'x-amz-request-id': 'E505E6A29051B975'},\n",
       "  'HTTPStatusCode': 200,\n",
       "  'HostId': '+hG9XqSgYNA8Q0OZUIGYJ3bvd0M0AcuRpVyQ/jDuGlfir2TLCeK7VcIwQ4ZbKPRWcNpYOaMLkTo=',\n",
       "  'RequestId': 'E505E6A29051B975',\n",
       "  'RetryAttempts': 0}}"
      ]
     },
     "execution_count": 21,
     "metadata": {},
     "output_type": "execute_result"
    }
   ],
   "source": [
    "# get object ACL\n",
    "clt.get_object_acl(Bucket='leiyang.test', Key='folder-test/IEEE_biography_samples.doc')"
   ]
  },
  {
   "cell_type": "code",
   "execution_count": 38,
   "metadata": {
    "collapsed": true
   },
   "outputs": [],
   "source": [
    "# modify object properties\n",
    "copy_source = {\n",
    "    'Bucket': 'leiyang.test',\n",
    "    'Key': 'folder-test/IEEE_biography_samples.doc'\n",
    "}\n",
    "\n",
    "clt.copy(\n",
    "  copy_source, 'leiyang.test', 'folder-test/IEEE_biography_samples.doc',\n",
    "  ExtraArgs = {\n",
    "    'StorageClass':'REDUCED_REDUNDANCY',\n",
    "    'ServerSideEncryption':'AES256',\n",
    "    'MetadataDirective':'COPY'\n",
    "  }\n",
    ")"
   ]
  },
  {
   "cell_type": "code",
   "execution_count": 3,
   "metadata": {},
   "outputs": [
    {
     "data": {
      "text/plain": [
       "{'ResponseMetadata': {'HTTPHeaders': {'content-length': '0',\n",
       "   'date': 'Sat, 02 Sep 2017 03:16:39 GMT',\n",
       "   'server': 'AmazonS3',\n",
       "   'x-amz-id-2': '4J2tUOO82ENxF5wzDtmxdBTmbf6eBkPWlha4yZ94b+iSmnRiJyBurap2ghU4GJGLUME0oBbyVQA=',\n",
       "   'x-amz-request-id': 'F11DC1E104BB128E'},\n",
       "  'HTTPStatusCode': 200,\n",
       "  'HostId': '4J2tUOO82ENxF5wzDtmxdBTmbf6eBkPWlha4yZ94b+iSmnRiJyBurap2ghU4GJGLUME0oBbyVQA=',\n",
       "  'RequestId': 'F11DC1E104BB128E',\n",
       "  'RetryAttempts': 1}}"
      ]
     },
     "execution_count": 3,
     "metadata": {},
     "output_type": "execute_result"
    }
   ],
   "source": [
    "# modify object tagging\n",
    "clt.put_object_tagging(Bucket='leiyang.test', Key='w4.pdf', \n",
    "                        Tagging={'TagSet':[{'Key':'new_key','Value':'boto'},{'Key':'from','Value':'python'}]})"
   ]
  },
  {
   "cell_type": "code",
   "execution_count": 4,
   "metadata": {},
   "outputs": [
    {
     "data": {
      "text/plain": [
       "{'ResponseMetadata': {'HTTPHeaders': {'date': 'Sat, 02 Sep 2017 03:17:44 GMT',\n",
       "   'server': 'AmazonS3',\n",
       "   'transfer-encoding': 'chunked',\n",
       "   'x-amz-id-2': 'oPR208P9SrGFtMJHT9dEB834uU0IuTV5WP/CJIi6JXCTxP3MEO2K4mH/vAtoCUlsTt6lOwvu7bg=',\n",
       "   'x-amz-request-id': 'DDE4F67634FDC46B'},\n",
       "  'HTTPStatusCode': 200,\n",
       "  'HostId': 'oPR208P9SrGFtMJHT9dEB834uU0IuTV5WP/CJIi6JXCTxP3MEO2K4mH/vAtoCUlsTt6lOwvu7bg=',\n",
       "  'RequestId': 'DDE4F67634FDC46B',\n",
       "  'RetryAttempts': 0},\n",
       " u'TagSet': [{u'Key': 'new_key', u'Value': 'boto'},\n",
       "  {u'Key': 'from', u'Value': 'python'}]}"
      ]
     },
     "execution_count": 4,
     "metadata": {},
     "output_type": "execute_result"
    }
   ],
   "source": [
    "# verify new tags\n",
    "clt.get_object_tagging(Bucket='leiyang.test', Key='w4.pdf')"
   ]
  },
  {
   "cell_type": "code",
   "execution_count": 75,
   "metadata": {},
   "outputs": [
    {
     "data": {
      "text/plain": [
       "{u'Grants': [{u'Grantee': {u'DisplayName': 'leiyang',\n",
       "    u'ID': 'ab78662b0559711595af8a2213fec4b6b564ee21f63bff1393dd2ce2fa8c7d08',\n",
       "    u'Type': 'CanonicalUser'},\n",
       "   u'Permission': 'FULL_CONTROL'}],\n",
       " u'Owner': {u'DisplayName': 'leiyang',\n",
       "  u'ID': 'ab78662b0559711595af8a2213fec4b6b564ee21f63bff1393dd2ce2fa8c7d08'},\n",
       " 'ResponseMetadata': {'HTTPHeaders': {'content-type': 'application/xml',\n",
       "   'date': 'Thu, 31 Aug 2017 19:29:16 GMT',\n",
       "   'server': 'AmazonS3',\n",
       "   'transfer-encoding': 'chunked',\n",
       "   'x-amz-id-2': 'NP9gpWLKpidviKxpMAWk/uYk3qzCVWFoLQy/KcssnYuYubmWPbB2kMwAeRYmqDh0XUPQS4rjHWc=',\n",
       "   'x-amz-request-id': '63429F2F6D17BD83'},\n",
       "  'HTTPStatusCode': 200,\n",
       "  'HostId': 'NP9gpWLKpidviKxpMAWk/uYk3qzCVWFoLQy/KcssnYuYubmWPbB2kMwAeRYmqDh0XUPQS4rjHWc=',\n",
       "  'RequestId': '63429F2F6D17BD83',\n",
       "  'RetryAttempts': 0}}"
      ]
     },
     "execution_count": 75,
     "metadata": {},
     "output_type": "execute_result"
    }
   ],
   "source": [
    "# get bucket ACL\n",
    "clt.get_bucket_acl(Bucket='leiyang.test')"
   ]
  },
  {
   "cell_type": "code",
   "execution_count": 5,
   "metadata": {},
   "outputs": [
    {
     "data": {
      "text/plain": [
       "{u'Policy': u'{\"Version\":\"2012-10-17\",\"Statement\":[{\"Effect\":\"Allow\",\"Principal\":{\"AWS\":\"arn:aws:iam::149687825236:user/s3_test\"},\"Action\":\"s3:GetObject\",\"Resource\":\"arn:aws:s3:::leiyang.test/*\",\"Condition\":{\"StringEquals\":{\"s3:ExistingObjectTag/nikola\":\"tesla\"}}},{\"Effect\":\"Allow\",\"Principal\":{\"AWS\":\"arn:aws:iam::149687825236:user/s3_test\"},\"Action\":\"s3:GetObject\",\"Resource\":\"arn:aws:s3:::leiyang.test/*\",\"Condition\":{\"StringEquals\":{\"s3:ExistingObjectTag/type\":\".doc\"}}},{\"Effect\":\"Allow\",\"Principal\":{\"AWS\":\"arn:aws:iam::149687825236:user/s3_test\"},\"Action\":\"s3:ListBucket\",\"Resource\":\"arn:aws:s3:::leiyang.test\",\"Condition\":{\"StringEquals\":{\"s3:prefix\":\"folder-test\"}}},{\"Effect\":\"Deny\",\"Principal\":{\"AWS\":\"arn:aws:iam::149687825236:user/s3_test\"},\"Action\":\"s3:ListBucket\",\"Resource\":\"arn:aws:s3:::leiyang.test\",\"Condition\":{\"StringNotEquals\":{\"s3:prefix\":\"folder-test\"}}}]}',\n",
       " 'ResponseMetadata': {'HTTPHeaders': {'content-length': '867',\n",
       "   'content-type': 'application/json',\n",
       "   'date': 'Sat, 02 Sep 2017 03:18:22 GMT',\n",
       "   'server': 'AmazonS3',\n",
       "   'x-amz-id-2': 'fyX/Hn21jxCqzlBG/Fn0Fil+GcSWW18Ha3GTDmx6LjwgLxEyFGmliH2+a6ij/fZaPxB7pc8KsBU=',\n",
       "   'x-amz-request-id': '08CDC8C08A05F812'},\n",
       "  'HTTPStatusCode': 200,\n",
       "  'HostId': 'fyX/Hn21jxCqzlBG/Fn0Fil+GcSWW18Ha3GTDmx6LjwgLxEyFGmliH2+a6ij/fZaPxB7pc8KsBU=',\n",
       "  'RequestId': '08CDC8C08A05F812',\n",
       "  'RetryAttempts': 0}}"
      ]
     },
     "execution_count": 5,
     "metadata": {},
     "output_type": "execute_result"
    }
   ],
   "source": [
    "# get bucket policy\n",
    "clt.get_bucket_policy(Bucket='leiyang.test')"
   ]
  },
  {
   "cell_type": "code",
   "execution_count": 315,
   "metadata": {
    "collapsed": true
   },
   "outputs": [],
   "source": [
    "# set/modify bucket policy\n",
    "\n",
    "# below policy: \n",
    "    # - allow user s3_test to only get objects with at least one of the specified tag key-value\n",
    "    # - allow user s3_test to only see objects from folder called \"folder-test\"\n",
    "policy = { \n",
    "  \"Version\": \"2012-10-17\", \n",
    "  \"Statement\": [ \n",
    "      # user s3_test can get object with tag key-value as nikola-tesla\n",
    "    { \n",
    "      \"Effect\": \"Allow\", \n",
    "      \"Action\": [\"s3:GetObject\" ],\n",
    "      \"Resource\": [\"arn:aws:s3:::leiyang.test/*\"],\n",
    "      \"Principal\": {\"AWS\":\"arn:aws:iam::149687825236:user/s3_test\"},\n",
    "      \"Condition\": {         \n",
    "        \"StringEquals\": {\"s3:ExistingObjectTag/nikola\": \"tesla\"}\n",
    "      }    \n",
    "    },\n",
    "      # user s3_test can get object with tag key-value as type-.doc\n",
    "    { \n",
    "      \"Effect\": \"Allow\", \n",
    "      \"Action\": [\"s3:GetObject\" ],\n",
    "      \"Resource\": [\"arn:aws:s3:::leiyang.test/*\"],\n",
    "      \"Principal\": {\"AWS\":\"arn:aws:iam::149687825236:user/s3_test\"},\n",
    "      \"Condition\": {         \n",
    "        \"StringEquals\": {\"s3:ExistingObjectTag/type\": \".doc\"}\n",
    "      }    \n",
    "    },\n",
    "      # user s3_test can see objects from folder-test\n",
    "     {        \n",
    "         \"Effect\":\"Allow\",\n",
    "         \"Action\":[\"s3:ListBucket\"],\n",
    "         \"Resource\":[\"arn:aws:s3:::leiyang.test\"],\n",
    "         \"Principal\": {\"AWS\":\"arn:aws:iam::149687825236:user/s3_test\"},\n",
    "         \"Condition\" : {\n",
    "             \"StringEquals\" : {\"s3:prefix\": \"folder-test\"}\n",
    "          } \n",
    "       },\n",
    "      # user s3_test cannot see object not in folder-test,\n",
    "      # this explicit deny is necessary to avoid possible policy loophole from other ACL/object policy\n",
    "      {        \n",
    "         \"Effect\":\"Deny\",\n",
    "         \"Action\":[\"s3:ListBucket\"],\n",
    "         \"Resource\":[\"arn:aws:s3:::leiyang.test\"],\n",
    "         \"Principal\": {\"AWS\":\"arn:aws:iam::149687825236:user/s3_test\"},\n",
    "         \"Condition\" : {\n",
    "             \"StringNotEquals\" : {\"s3:prefix\": \"folder-test\" }\n",
    "          } \n",
    "       }      \n",
    "  ]\n",
    "}\n",
    "clt.put_bucket_policy(Bucket='leiyang.test', Policy=json.dumps(policy))"
   ]
  },
  {
   "cell_type": "code",
   "execution_count": 16,
   "metadata": {
    "collapsed": true
   },
   "outputs": [],
   "source": [
    "# get another client with s3_test credential, to verify the policy\n",
    "clnt2 = boto3.client('s3', aws_access_key_id='foo', \n",
    "                     aws_secret_access_key='bar')"
   ]
  },
  {
   "cell_type": "code",
   "execution_count": 18,
   "metadata": {},
   "outputs": [
    {
     "ename": "ClientError",
     "evalue": "An error occurred (AccessDenied) when calling the ListObjects operation: Access Denied",
     "output_type": "error",
     "traceback": [
      "\u001b[0;31m---------------------------------------------------------------------------\u001b[0m",
      "\u001b[0;31mClientError\u001b[0m                               Traceback (most recent call last)",
      "\u001b[0;32m<ipython-input-18-8c0a5c0ab4f4>\u001b[0m in \u001b[0;36m<module>\u001b[0;34m()\u001b[0m\n\u001b[0;32m----> 1\u001b[0;31m \u001b[0mclnt2\u001b[0m\u001b[0;34m.\u001b[0m\u001b[0mlist_objects\u001b[0m\u001b[0;34m(\u001b[0m\u001b[0mBucket\u001b[0m\u001b[0;34m=\u001b[0m\u001b[0;34m'leiyang.test'\u001b[0m\u001b[0;34m)\u001b[0m \u001b[0;31m#, Prefix='folder-test', Delimiter=';')\u001b[0m\u001b[0;34m\u001b[0m\u001b[0m\n\u001b[0m",
      "\u001b[0;32m/usr/local/lib/python3.6/site-packages/botocore/client.py\u001b[0m in \u001b[0;36m_api_call\u001b[0;34m(self, *args, **kwargs)\u001b[0m\n\u001b[1;32m    310\u001b[0m                     \"%s() only accepts keyword arguments.\" % py_operation_name)\n\u001b[1;32m    311\u001b[0m             \u001b[0;31m# The \"self\" in this scope is referring to the BaseClient.\u001b[0m\u001b[0;34m\u001b[0m\u001b[0;34m\u001b[0m\u001b[0m\n\u001b[0;32m--> 312\u001b[0;31m             \u001b[0;32mreturn\u001b[0m \u001b[0mself\u001b[0m\u001b[0;34m.\u001b[0m\u001b[0m_make_api_call\u001b[0m\u001b[0;34m(\u001b[0m\u001b[0moperation_name\u001b[0m\u001b[0;34m,\u001b[0m \u001b[0mkwargs\u001b[0m\u001b[0;34m)\u001b[0m\u001b[0;34m\u001b[0m\u001b[0m\n\u001b[0m\u001b[1;32m    313\u001b[0m \u001b[0;34m\u001b[0m\u001b[0m\n\u001b[1;32m    314\u001b[0m         \u001b[0m_api_call\u001b[0m\u001b[0;34m.\u001b[0m\u001b[0m__name__\u001b[0m \u001b[0;34m=\u001b[0m \u001b[0mstr\u001b[0m\u001b[0;34m(\u001b[0m\u001b[0mpy_operation_name\u001b[0m\u001b[0;34m)\u001b[0m\u001b[0;34m\u001b[0m\u001b[0m\n",
      "\u001b[0;32m/usr/local/lib/python3.6/site-packages/botocore/client.py\u001b[0m in \u001b[0;36m_make_api_call\u001b[0;34m(self, operation_name, api_params)\u001b[0m\n\u001b[1;32m    599\u001b[0m             \u001b[0merror_code\u001b[0m \u001b[0;34m=\u001b[0m \u001b[0mparsed_response\u001b[0m\u001b[0;34m.\u001b[0m\u001b[0mget\u001b[0m\u001b[0;34m(\u001b[0m\u001b[0;34m\"Error\"\u001b[0m\u001b[0;34m,\u001b[0m \u001b[0;34m{\u001b[0m\u001b[0;34m}\u001b[0m\u001b[0;34m)\u001b[0m\u001b[0;34m.\u001b[0m\u001b[0mget\u001b[0m\u001b[0;34m(\u001b[0m\u001b[0;34m\"Code\"\u001b[0m\u001b[0;34m)\u001b[0m\u001b[0;34m\u001b[0m\u001b[0m\n\u001b[1;32m    600\u001b[0m             \u001b[0merror_class\u001b[0m \u001b[0;34m=\u001b[0m \u001b[0mself\u001b[0m\u001b[0;34m.\u001b[0m\u001b[0mexceptions\u001b[0m\u001b[0;34m.\u001b[0m\u001b[0mfrom_code\u001b[0m\u001b[0;34m(\u001b[0m\u001b[0merror_code\u001b[0m\u001b[0;34m)\u001b[0m\u001b[0;34m\u001b[0m\u001b[0m\n\u001b[0;32m--> 601\u001b[0;31m             \u001b[0;32mraise\u001b[0m \u001b[0merror_class\u001b[0m\u001b[0;34m(\u001b[0m\u001b[0mparsed_response\u001b[0m\u001b[0;34m,\u001b[0m \u001b[0moperation_name\u001b[0m\u001b[0;34m)\u001b[0m\u001b[0;34m\u001b[0m\u001b[0m\n\u001b[0m\u001b[1;32m    602\u001b[0m         \u001b[0;32melse\u001b[0m\u001b[0;34m:\u001b[0m\u001b[0;34m\u001b[0m\u001b[0m\n\u001b[1;32m    603\u001b[0m             \u001b[0;32mreturn\u001b[0m \u001b[0mparsed_response\u001b[0m\u001b[0;34m\u001b[0m\u001b[0m\n",
      "\u001b[0;31mClientError\u001b[0m: An error occurred (AccessDenied) when calling the ListObjects operation: Access Denied"
     ]
    }
   ],
   "source": [
    "# unable to see all objects in the bucket\n",
    "clnt2.list_objects(Bucket='leiyang.test')"
   ]
  },
  {
   "cell_type": "code",
   "execution_count": 20,
   "metadata": {},
   "outputs": [
    {
     "data": {
      "text/plain": [
       "{'Contents': [{'ETag': '\"d41d8cd98f00b204e9800998ecf8427e\"',\n",
       "   'Key': 'folder-test/',\n",
       "   'LastModified': datetime.datetime(2017, 7, 26, 19, 25, 52, tzinfo=tzutc()),\n",
       "   'Size': 0,\n",
       "   'StorageClass': 'STANDARD'},\n",
       "  {'ETag': '\"b3ffa3bea5d9d5c6d7f1235edd962b88\"',\n",
       "   'Key': 'folder-test/IEEE_biography_samples.doc',\n",
       "   'LastModified': datetime.datetime(2017, 8, 31, 3, 49, 59, tzinfo=tzutc()),\n",
       "   'Size': 50176,\n",
       "   'StorageClass': 'REDUCED_REDUNDANCY'}],\n",
       " 'EncodingType': 'url',\n",
       " 'IsTruncated': False,\n",
       " 'Marker': '',\n",
       " 'MaxKeys': 1000,\n",
       " 'Name': 'leiyang.test',\n",
       " 'Prefix': 'folder-test',\n",
       " 'ResponseMetadata': {'HTTPHeaders': {'content-type': 'application/xml',\n",
       "   'date': 'Sat, 02 Sep 2017 06:12:53 GMT',\n",
       "   'server': 'AmazonS3',\n",
       "   'transfer-encoding': 'chunked',\n",
       "   'x-amz-bucket-region': 'us-west-1',\n",
       "   'x-amz-id-2': 'avCeqw+78Id1dFFscwtq2h1JDjEj/pslV3TBksACitRyT7e4SKiftmfe1HpWMqTQbJNWDS/vDn4=',\n",
       "   'x-amz-request-id': '3171442E527B3262'},\n",
       "  'HTTPStatusCode': 200,\n",
       "  'HostId': 'avCeqw+78Id1dFFscwtq2h1JDjEj/pslV3TBksACitRyT7e4SKiftmfe1HpWMqTQbJNWDS/vDn4=',\n",
       "  'RequestId': '3171442E527B3262',\n",
       "  'RetryAttempts': 0}}"
      ]
     },
     "execution_count": 20,
     "metadata": {},
     "output_type": "execute_result"
    }
   ],
   "source": [
    "# only see object with prefix 'folder-test' in the key \n",
    "clnt2.list_objects(Bucket='leiyang.test', Prefix='folder-test')"
   ]
  },
  {
   "cell_type": "code",
   "execution_count": 21,
   "metadata": {},
   "outputs": [
    {
     "data": {
      "text/plain": [
       "{'AcceptRanges': 'bytes',\n",
       " 'Body': <botocore.response.StreamingBody at 0x105ee77b8>,\n",
       " 'ContentLanguage': 'english',\n",
       " 'ContentLength': 50176,\n",
       " 'ContentType': 'application/msword',\n",
       " 'ETag': '\"b3ffa3bea5d9d5c6d7f1235edd962b88\"',\n",
       " 'LastModified': datetime.datetime(2017, 8, 31, 3, 49, 59, tzinfo=tzutc()),\n",
       " 'Metadata': {'loc': 'RNO'},\n",
       " 'ResponseMetadata': {'HTTPHeaders': {'accept-ranges': 'bytes',\n",
       "   'content-language': 'english',\n",
       "   'content-length': '50176',\n",
       "   'content-type': 'application/msword',\n",
       "   'date': 'Sat, 02 Sep 2017 06:13:50 GMT',\n",
       "   'etag': '\"b3ffa3bea5d9d5c6d7f1235edd962b88\"',\n",
       "   'last-modified': 'Thu, 31 Aug 2017 03:49:59 GMT',\n",
       "   'server': 'AmazonS3',\n",
       "   'x-amz-id-2': 'A9RTURn9bccO9TIAxfCP0yfCpJWa9Cy2OFXMUFwNwsEIWKCyx/lCPvFYl8eV8sSyiHyfkvRk9aE=',\n",
       "   'x-amz-meta-loc': 'RNO',\n",
       "   'x-amz-request-id': 'E083751B7B150E24',\n",
       "   'x-amz-server-side-encryption': 'AES256',\n",
       "   'x-amz-storage-class': 'REDUCED_REDUNDANCY'},\n",
       "  'HTTPStatusCode': 200,\n",
       "  'HostId': 'A9RTURn9bccO9TIAxfCP0yfCpJWa9Cy2OFXMUFwNwsEIWKCyx/lCPvFYl8eV8sSyiHyfkvRk9aE=',\n",
       "  'RequestId': 'E083751B7B150E24',\n",
       "  'RetryAttempts': 0},\n",
       " 'ServerSideEncryption': 'AES256',\n",
       " 'StorageClass': 'REDUCED_REDUNDANCY'}"
      ]
     },
     "execution_count": 21,
     "metadata": {},
     "output_type": "execute_result"
    }
   ],
   "source": [
    "# can get object with prefix\n",
    "clnt2.get_object(Bucket='leiyang.test', Key='folder-test/IEEE_biography_samples.doc')"
   ]
  },
  {
   "cell_type": "code",
   "execution_count": 22,
   "metadata": {},
   "outputs": [
    {
     "ename": "ClientError",
     "evalue": "An error occurred (AccessDenied) when calling the GetObject operation: Access Denied",
     "output_type": "error",
     "traceback": [
      "\u001b[0;31m---------------------------------------------------------------------------\u001b[0m",
      "\u001b[0;31mClientError\u001b[0m                               Traceback (most recent call last)",
      "\u001b[0;32m<ipython-input-22-8c095da593a9>\u001b[0m in \u001b[0;36m<module>\u001b[0;34m()\u001b[0m\n\u001b[1;32m      1\u001b[0m \u001b[0;31m# cannot get object without specified prefix\u001b[0m\u001b[0;34m\u001b[0m\u001b[0;34m\u001b[0m\u001b[0m\n\u001b[0;32m----> 2\u001b[0;31m \u001b[0mclnt2\u001b[0m\u001b[0;34m.\u001b[0m\u001b[0mget_object\u001b[0m\u001b[0;34m(\u001b[0m\u001b[0mBucket\u001b[0m\u001b[0;34m=\u001b[0m\u001b[0;34m'leiyang.test'\u001b[0m\u001b[0;34m,\u001b[0m \u001b[0mKey\u001b[0m\u001b[0;34m=\u001b[0m\u001b[0;34m'w4.pdf'\u001b[0m\u001b[0;34m)\u001b[0m\u001b[0;34m\u001b[0m\u001b[0m\n\u001b[0m",
      "\u001b[0;32m/usr/local/lib/python3.6/site-packages/botocore/client.py\u001b[0m in \u001b[0;36m_api_call\u001b[0;34m(self, *args, **kwargs)\u001b[0m\n\u001b[1;32m    310\u001b[0m                     \"%s() only accepts keyword arguments.\" % py_operation_name)\n\u001b[1;32m    311\u001b[0m             \u001b[0;31m# The \"self\" in this scope is referring to the BaseClient.\u001b[0m\u001b[0;34m\u001b[0m\u001b[0;34m\u001b[0m\u001b[0m\n\u001b[0;32m--> 312\u001b[0;31m             \u001b[0;32mreturn\u001b[0m \u001b[0mself\u001b[0m\u001b[0;34m.\u001b[0m\u001b[0m_make_api_call\u001b[0m\u001b[0;34m(\u001b[0m\u001b[0moperation_name\u001b[0m\u001b[0;34m,\u001b[0m \u001b[0mkwargs\u001b[0m\u001b[0;34m)\u001b[0m\u001b[0;34m\u001b[0m\u001b[0m\n\u001b[0m\u001b[1;32m    313\u001b[0m \u001b[0;34m\u001b[0m\u001b[0m\n\u001b[1;32m    314\u001b[0m         \u001b[0m_api_call\u001b[0m\u001b[0;34m.\u001b[0m\u001b[0m__name__\u001b[0m \u001b[0;34m=\u001b[0m \u001b[0mstr\u001b[0m\u001b[0;34m(\u001b[0m\u001b[0mpy_operation_name\u001b[0m\u001b[0;34m)\u001b[0m\u001b[0;34m\u001b[0m\u001b[0m\n",
      "\u001b[0;32m/usr/local/lib/python3.6/site-packages/botocore/client.py\u001b[0m in \u001b[0;36m_make_api_call\u001b[0;34m(self, operation_name, api_params)\u001b[0m\n\u001b[1;32m    599\u001b[0m             \u001b[0merror_code\u001b[0m \u001b[0;34m=\u001b[0m \u001b[0mparsed_response\u001b[0m\u001b[0;34m.\u001b[0m\u001b[0mget\u001b[0m\u001b[0;34m(\u001b[0m\u001b[0;34m\"Error\"\u001b[0m\u001b[0;34m,\u001b[0m \u001b[0;34m{\u001b[0m\u001b[0;34m}\u001b[0m\u001b[0;34m)\u001b[0m\u001b[0;34m.\u001b[0m\u001b[0mget\u001b[0m\u001b[0;34m(\u001b[0m\u001b[0;34m\"Code\"\u001b[0m\u001b[0;34m)\u001b[0m\u001b[0;34m\u001b[0m\u001b[0m\n\u001b[1;32m    600\u001b[0m             \u001b[0merror_class\u001b[0m \u001b[0;34m=\u001b[0m \u001b[0mself\u001b[0m\u001b[0;34m.\u001b[0m\u001b[0mexceptions\u001b[0m\u001b[0;34m.\u001b[0m\u001b[0mfrom_code\u001b[0m\u001b[0;34m(\u001b[0m\u001b[0merror_code\u001b[0m\u001b[0;34m)\u001b[0m\u001b[0;34m\u001b[0m\u001b[0m\n\u001b[0;32m--> 601\u001b[0;31m             \u001b[0;32mraise\u001b[0m \u001b[0merror_class\u001b[0m\u001b[0;34m(\u001b[0m\u001b[0mparsed_response\u001b[0m\u001b[0;34m,\u001b[0m \u001b[0moperation_name\u001b[0m\u001b[0;34m)\u001b[0m\u001b[0;34m\u001b[0m\u001b[0m\n\u001b[0m\u001b[1;32m    602\u001b[0m         \u001b[0;32melse\u001b[0m\u001b[0;34m:\u001b[0m\u001b[0;34m\u001b[0m\u001b[0m\n\u001b[1;32m    603\u001b[0m             \u001b[0;32mreturn\u001b[0m \u001b[0mparsed_response\u001b[0m\u001b[0;34m\u001b[0m\u001b[0m\n",
      "\u001b[0;31mClientError\u001b[0m: An error occurred (AccessDenied) when calling the GetObject operation: Access Denied"
     ]
    }
   ],
   "source": [
    "# cannot get object without specified prefix\n",
    "clnt2.get_object(Bucket='leiyang.test', Key='w4.pdf')"
   ]
  },
  {
   "cell_type": "code",
   "execution_count": 250,
   "metadata": {
    "collapsed": true
   },
   "outputs": [],
   "source": [
    "# can download file if GetObject is allowed\n",
    "clnt2.download_file('leiyang.test', 'folder-test/IEEE_biography_samples.doc', 'download_test2.doc')"
   ]
  },
  {
   "cell_type": "markdown",
   "metadata": {},
   "source": [
    "# AWS S3 REST API Examples\n",
    "- needs to provide proper signature of the request with hashed access_key"
   ]
  },
  {
   "cell_type": "code",
   "execution_count": 29,
   "metadata": {
    "collapsed": true
   },
   "outputs": [],
   "source": [
    "# an example to get bucket/object property with organic REST API call\n",
    "# the access key is from an IAM user with full control of S3\n",
    "\n",
    "import sys, os, base64, datetime, hashlib, hmac, requests\n",
    "\n",
    "def sign(key, msg):\n",
    "    return hmac.new(key, msg.encode('utf-8'), hashlib.sha256).digest()\n",
    "\n",
    "def getSignatureKey(key, dateStamp, regionName, serviceName):\n",
    "    kDate = sign(('AWS4' + key).encode('utf-8'), dateStamp)\n",
    "    kRegion = sign(kDate, regionName)\n",
    "    kService = sign(kRegion, serviceName)\n",
    "    kSigning = sign(kService, 'aws4_request')\n",
    "    return kSigning\n",
    "\n",
    "def get_bucket_stuff(bucket, stuff, obj='/', region='us-west-1'):\n",
    "    access_key = os.environ.get('AWS_ACCESS_KEY_ID')\n",
    "    secret_key = os.environ.get('AWS_SECRET_ACCESS_KEY')\n",
    "    # create a date for headers and the credential string\n",
    "    t = datetime.datetime.utcnow()\n",
    "    amzdate = t.strftime('%Y%m%dT%H%M%SZ')\n",
    "    datestamp = t.strftime('%Y%m%d') \n",
    "    # define request\n",
    "    uri = obj + '?' + stuff\n",
    "    canonical_headers = 'host:' + bucket + '.s3.amazonaws.com\\n' + 'x-amz-date:' + amzdate + '\\n'    \n",
    "    signed_headers = 'host;x-amz-date'\n",
    "    canonical_request = 'GET\\n' + obj + '\\n' + stuff + '=\\n' + canonical_headers + '\\n' + signed_headers + '\\nUNSIGNED-PAYLOAD'\n",
    "    # create signature for the request\n",
    "    algorithm = 'AWS4-HMAC-SHA256'\n",
    "    credential_scope = datestamp + '/' + region + '/s3/aws4_request'\n",
    "    string_to_sign = algorithm + '\\n' +  amzdate + '\\n' +  credential_scope + '\\n' +  hashlib.sha256(canonical_request.encode('utf-8')).hexdigest()\n",
    "    signing_key = getSignatureKey(secret_key, datestamp, region, 's3')\n",
    "    signature = hmac.new(signing_key, (string_to_sign).encode('utf-8'), hashlib.sha256).hexdigest()\n",
    "    # define headers\n",
    "    authorization_header = algorithm + ' Credential=' + access_key + '/' + credential_scope + ', SignedHeaders=' + signed_headers + ', Signature=' + signature\n",
    "    headers = {'x-amz-date':amzdate, 'Authorization':authorization_header, 'x-amz-content-sha256':'UNSIGNED-PAYLOAD'}\n",
    "    # send request and get results\n",
    "    request_url = 'http://' + bucket + '.s3.amazonaws.com' + uri    \n",
    "    return requests.get(request_url, headers=headers).text"
   ]
  },
  {
   "cell_type": "code",
   "execution_count": 30,
   "metadata": {},
   "outputs": [
    {
     "name": "stdout",
     "output_type": "stream",
     "text": [
      "<?xml version=\"1.0\" encoding=\"UTF-8\"?>\n",
      "<Tagging xmlns=\"http://s3.amazonaws.com/doc/2006-03-01/\"><TagSet><Tag><Key>new_key</Key><Value>boto</Value></Tag><Tag><Key>from</Key><Value>python</Value></Tag></TagSet></Tagging>\n"
     ]
    }
   ],
   "source": [
    "# get tags for object\n",
    "print(get_bucket_stuff('leiyang.test', 'tagging', obj='/w4.pdf'))"
   ]
  },
  {
   "cell_type": "code",
   "execution_count": 31,
   "metadata": {},
   "outputs": [
    {
     "data": {
      "text/plain": [
       "[{'Key': 'new_key', 'Value': 'boto'}, {'Key': 'from', 'Value': 'python'}]"
      ]
     },
     "execution_count": 31,
     "metadata": {},
     "output_type": "execute_result"
    }
   ],
   "source": [
    "# verify with boto3 return\n",
    "clt.get_object_tagging(Bucket='leiyang.test', Key='w4.pdf')['TagSet']"
   ]
  },
  {
   "cell_type": "code",
   "execution_count": 32,
   "metadata": {},
   "outputs": [
    {
     "data": {
      "text/plain": [
       "'{\"Version\":\"2012-10-17\",\"Statement\":[{\"Effect\":\"Allow\",\"Principal\":{\"AWS\":\"arn:aws:iam::149687825236:user/s3_test\"},\"Action\":\"s3:GetObject\",\"Resource\":\"arn:aws:s3:::leiyang.test/*\",\"Condition\":{\"StringEquals\":{\"s3:ExistingObjectTag/nikola\":\"tesla\"}}},{\"Effect\":\"Allow\",\"Principal\":{\"AWS\":\"arn:aws:iam::149687825236:user/s3_test\"},\"Action\":\"s3:GetObject\",\"Resource\":\"arn:aws:s3:::leiyang.test/*\",\"Condition\":{\"StringEquals\":{\"s3:ExistingObjectTag/type\":\".doc\"}}},{\"Effect\":\"Allow\",\"Principal\":{\"AWS\":\"arn:aws:iam::149687825236:user/s3_test\"},\"Action\":\"s3:ListBucket\",\"Resource\":\"arn:aws:s3:::leiyang.test\",\"Condition\":{\"StringEquals\":{\"s3:prefix\":\"folder-test\"}}},{\"Effect\":\"Deny\",\"Principal\":{\"AWS\":\"arn:aws:iam::149687825236:user/s3_test\"},\"Action\":\"s3:ListBucket\",\"Resource\":\"arn:aws:s3:::leiyang.test\",\"Condition\":{\"StringNotEquals\":{\"s3:prefix\":\"folder-test\"}}}]}'"
      ]
     },
     "execution_count": 32,
     "metadata": {},
     "output_type": "execute_result"
    }
   ],
   "source": [
    "# get bucket policy\n",
    "get_bucket_stuff('leiyang.test', 'policy')"
   ]
  },
  {
   "cell_type": "code",
   "execution_count": 34,
   "metadata": {},
   "outputs": [
    {
     "data": {
      "text/plain": [
       "'{\"Version\":\"2012-10-17\",\"Statement\":[{\"Effect\":\"Allow\",\"Principal\":{\"AWS\":\"arn:aws:iam::149687825236:user/s3_test\"},\"Action\":\"s3:GetObject\",\"Resource\":\"arn:aws:s3:::leiyang.test/*\",\"Condition\":{\"StringEquals\":{\"s3:ExistingObjectTag/nikola\":\"tesla\"}}},{\"Effect\":\"Allow\",\"Principal\":{\"AWS\":\"arn:aws:iam::149687825236:user/s3_test\"},\"Action\":\"s3:GetObject\",\"Resource\":\"arn:aws:s3:::leiyang.test/*\",\"Condition\":{\"StringEquals\":{\"s3:ExistingObjectTag/type\":\".doc\"}}},{\"Effect\":\"Allow\",\"Principal\":{\"AWS\":\"arn:aws:iam::149687825236:user/s3_test\"},\"Action\":\"s3:ListBucket\",\"Resource\":\"arn:aws:s3:::leiyang.test\",\"Condition\":{\"StringEquals\":{\"s3:prefix\":\"folder-test\"}}},{\"Effect\":\"Deny\",\"Principal\":{\"AWS\":\"arn:aws:iam::149687825236:user/s3_test\"},\"Action\":\"s3:ListBucket\",\"Resource\":\"arn:aws:s3:::leiyang.test\",\"Condition\":{\"StringNotEquals\":{\"s3:prefix\":\"folder-test\"}}}]}'"
      ]
     },
     "execution_count": 34,
     "metadata": {},
     "output_type": "execute_result"
    }
   ],
   "source": [
    "# verify with boto3 return\n",
    "clt.get_bucket_policy(Bucket='leiyang.test')['Policy']"
   ]
  },
  {
   "cell_type": "code",
   "execution_count": 40,
   "metadata": {},
   "outputs": [
    {
     "name": "stdout",
     "output_type": "stream",
     "text": [
      "<?xml version=\"1.0\" encoding=\"UTF-8\"?>\n",
      "<ListBucketResult xmlns=\"http://s3.amazonaws.com/doc/2006-03-01/\"><Name>leiyang.test</Name><Prefix></Prefix><Marker></Marker><MaxKeys>1000</MaxKeys><IsTruncated>false</IsTruncated><Contents><Key>folder-test/</Key><LastModified>2017-07-26T19:25:52.000Z</LastModified><ETag>&quot;d41d8cd98f00b204e9800998ecf8427e&quot;</ETag><Size>0</Size><Owner><ID>ab78662b0559711595af8a2213fec4b6b564ee21f63bff1393dd2ce2fa8c7d08</ID><DisplayName>leiyang</DisplayName></Owner><StorageClass>STANDARD</StorageClass></Contents><Contents><Key>folder-test/IEEE_biography_samples.doc</Key><LastModified>2017-08-31T03:49:59.000Z</LastModified><ETag>&quot;b3ffa3bea5d9d5c6d7f1235edd962b88&quot;</ETag><Size>50176</Size><Owner><ID>ab78662b0559711595af8a2213fec4b6b564ee21f63bff1393dd2ce2fa8c7d08</ID><DisplayName>leiyang</DisplayName></Owner><StorageClass>REDUCED_REDUNDANCY</StorageClass></Contents><Contents><Key>w4.pdf</Key><LastModified>2017-07-26T19:28:05.000Z</LastModified><ETag>&quot;4cbd0d5dbff3bbccdf23886bd0d119fa&quot;</ETag><Size>56187</Size><Owner><ID>ab78662b0559711595af8a2213fec4b6b564ee21f63bff1393dd2ce2fa8c7d08</ID><DisplayName>leiyang</DisplayName></Owner><StorageClass>STANDARD</StorageClass></Contents></ListBucketResult>\n"
     ]
    }
   ],
   "source": [
    "# list bucket content\n",
    "print(get_bucket_stuff('leiyang.test', 'action'))"
   ]
  }
 ],
 "metadata": {
  "kernelspec": {
   "display_name": "Python 3",
   "language": "python",
   "name": "python3"
  },
  "language_info": {
   "codemirror_mode": {
    "name": "ipython",
    "version": 3
   },
   "file_extension": ".py",
   "mimetype": "text/x-python",
   "name": "python",
   "nbconvert_exporter": "python",
   "pygments_lexer": "ipython3",
   "version": "3.6.1"
  }
 },
 "nbformat": 4,
 "nbformat_minor": 2
}
